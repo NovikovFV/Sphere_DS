{
 "cells": [
  {
   "cell_type": "markdown",
   "metadata": {},
   "source": [
    "**Общая информация**\n",
    "\n",
    "**Срок сдачи:** 20 марта 2019, 06:00 <br\\>\n",
    "**Штраф за опоздание:** -1 балл после 06:00 20 марта, -2 балла после 06:00 27 марта, -3 балла после 06:00 3 апреля\n",
    "\n",
    "При отправлении ДЗ указывайте фамилию в названии файла\n",
    "Присылать ДЗ необходимо в виде ссылки на свой github репозиторий в slack @alkhamush\n",
    "\n",
    "Необходимо в slack скинуть ссылку в личный чат @alkhamush\n",
    "Пример ссылки:\n",
    "https://github.com/stroykova/spheremailru/stroykova_hw1.ipynb \n",
    "\n",
    "\n",
    "Используйте данный Ipython Notebook при оформлении домашнего задания."
   ]
  },
  {
   "cell_type": "markdown",
   "metadata": {},
   "source": [
    "###### Задание 1 (2 баллов)\n",
    "Реализовать KNN в классе MyKNeighborsClassifier (обязательное условие: точность не ниже sklearn реализации)\n",
    "Разберитесь самостоятельно, какая мера расстояния используется в KNeighborsClassifier дефолтно и реализуйте свой алгоритм именно с этой мерой. Самостоятельно разберитесь, как считается score из KNeighborsClassifier и реализуйте аналог в своём классе. Score не должен уступать значению KNN из sklearn\n",
    "\n",
    "###### Задание 2 (2 балла)\n",
    "Добиться скорости работы на fit,  predict и predict_proba сравнимой со sklearn для iris и mnist\n",
    "Для этого используем numpy\n",
    "\n",
    "###### Задание 3 (2 балла)\n",
    "Для iris найдите такой параметр n_neighbors, при котором выдаётся наилучший score. Нарисуйте график зависимости score от n_neighbors\n",
    "\n",
    "###### Задание 4 (3 балла)\n",
    "Добавить algorithm='kd_tree' в реализацию KNN (использовать KDTree из sklearn.neighbors). Значение n_neighbors нужно взять из задания 3. Добиться скорости работы на fit,  predict и predict_proba сравнимой со sklearn для iris и mnist\n",
    "Для этого используем numpy. Score не должен уступать значению KNN из sklearn\n",
    "\n",
    "###### Задание 5 (1 балла)\n",
    "Описать для чего нужны следующие библиотеки/классы/функции (список будет ниже)\n",
    "\n",
    "**Штрафные баллы:**\n",
    "\n",
    "1. Невыполнение PEP8 -1 балл\n",
    "2. Отсутствие фамилии в имени скрипта (скрипт должен называться по аналогии со stroykova_hw1.ipynb) -1 балл\n",
    "3. Все строчки должны быть выполнены. Нужно, чтобы output команды можно было увидеть уже в git'е. В противном случае -1 балл\n",
    "4. При оформлении ДЗ нужно пользоваться данным файлом в качестве шаблона. Не нужно удалять и видоизменять структуру кода и текст. В противном случае -1 балл\n"
   ]
  },
  {
   "cell_type": "code",
   "execution_count": 1,
   "metadata": {},
   "outputs": [],
   "source": [
    "import numpy as np\n",
    "import matplotlib.pyplot as plt\n",
    "\n",
    "import seaborn as sns\n",
    "from sklearn import datasets\n",
    "from sklearn.base import ClassifierMixin\n",
    "from sklearn.datasets import fetch_mldata\n",
    "from sklearn.neighbors.base import NeighborsBase, KNeighborsMixin, SupervisedIntegerMixin \n",
    "from sklearn.model_selection import train_test_split\n",
    "from sklearn.neighbors import KNeighborsClassifier\n",
    "from sklearn.neighbors import KDTree\n",
    "#%load_ext pycodestyle_magic"
   ]
  },
  {
   "cell_type": "code",
   "execution_count": 2,
   "metadata": {},
   "outputs": [],
   "source": [
    "#%%pycodestyle\n",
    "\n",
    "class MyKNeighborsClassifier(NeighborsBase, KNeighborsMixin, SupervisedIntegerMixin, ClassifierMixin):\n",
    "    \n",
    "    def __init__(self, n_neighbors, algorithm = 'brute'):\n",
    "        self.n_neighbors = n_neighbors\n",
    "        self.algorithm = algorithm\n",
    "                    \n",
    "    def fit(self, X, y):\n",
    "        if (self.algorithm == 'kd_tree'):\n",
    "            self.tree = KDTree(X)\n",
    "        elif(self.algorithm == 'brute'):\n",
    "            self.X_Train = X\n",
    "        self.y_Train = y\n",
    "\n",
    "    def predict(self, X):\n",
    "        if (self.algorithm == 'kd_tree'):\n",
    "            q, index_nearest = self.tree.query(X, k=self.n_neighbors)\n",
    "        elif(self.algorithm == 'brute'):\n",
    "            from scipy.spatial.distance import cdist\n",
    "            index_nearest = np.argpartition(cdist(X, self.X_Train), self.n_neighbors)[:, :self.n_neighbors].astype(int)\n",
    "        \n",
    "        A = self.y_Train[index_nearest].astype(int)    \n",
    "        predictions = []\n",
    "        for i in A:\n",
    "            predictions.append(np.argmax(np.bincount(i)))\n",
    "            \n",
    "        return np.array(predictions)\n",
    "    \n",
    "    def predict_proba(self, X):\n",
    "        if (self.algorithm == 'kd_tree'):\n",
    "            q, index_nearest = self.tree.query(X, k=self.n_neighbors)\n",
    "        elif(self.algorithm == 'brute'):\n",
    "            from scipy.spatial.distance import cdist\n",
    "            index_nearest = np.argpartition(cdist(X, self.X_Train), self.n_neighbors)[:, :self.n_neighbors].astype(int)\n",
    "            \n",
    "        A = self.y_Train[index_nearest].astype(int)\n",
    "        predictions = []\n",
    "        for i in A:\n",
    "            predictions.append(np.argmax(np.bincount(i) / self.n_neighbors))\n",
    "            \n",
    "        return np.array(predictions)\n",
    "    \n",
    "    def score(self, X, y):\n",
    "        return np.mean(self.predict(X) == y)"
   ]
  },
  {
   "cell_type": "markdown",
   "metadata": {},
   "source": [
    "**IRIS**"
   ]
  },
  {
   "cell_type": "code",
   "execution_count": 3,
   "metadata": {
    "collapsed": true
   },
   "outputs": [],
   "source": [
    "iris = datasets.load_iris()"
   ]
  },
  {
   "cell_type": "code",
   "execution_count": 4,
   "metadata": {
    "collapsed": true
   },
   "outputs": [],
   "source": [
    "X_train, X_test, y_train, y_test = train_test_split(iris.data, iris.target, test_size=0.1, stratify=iris.target)"
   ]
  },
  {
   "cell_type": "code",
   "execution_count": 5,
   "metadata": {
    "collapsed": true
   },
   "outputs": [],
   "source": [
    "clf = KNeighborsClassifier(n_neighbors=2)\n",
    "my_clf = MyKNeighborsClassifier(n_neighbors=2)"
   ]
  },
  {
   "cell_type": "code",
   "execution_count": 6,
   "metadata": {},
   "outputs": [
    {
     "name": "stdout",
     "output_type": "stream",
     "text": [
      "CPU times: user 1.07 ms, sys: 70 µs, total: 1.14 ms\n",
      "Wall time: 952 µs\n"
     ]
    },
    {
     "data": {
      "text/plain": [
       "KNeighborsClassifier(algorithm='auto', leaf_size=30, metric='minkowski',\n",
       "           metric_params=None, n_jobs=1, n_neighbors=2, p=2,\n",
       "           weights='uniform')"
      ]
     },
     "execution_count": 6,
     "metadata": {},
     "output_type": "execute_result"
    }
   ],
   "source": [
    "%time clf.fit(X_train, y_train)"
   ]
  },
  {
   "cell_type": "code",
   "execution_count": 7,
   "metadata": {},
   "outputs": [
    {
     "name": "stdout",
     "output_type": "stream",
     "text": [
      "CPU times: user 6 µs, sys: 0 ns, total: 6 µs\n",
      "Wall time: 8.34 µs\n"
     ]
    }
   ],
   "source": [
    "%time my_clf.fit(X_train, y_train)"
   ]
  },
  {
   "cell_type": "code",
   "execution_count": 8,
   "metadata": {},
   "outputs": [
    {
     "name": "stdout",
     "output_type": "stream",
     "text": [
      "CPU times: user 710 µs, sys: 46 µs, total: 756 µs\n",
      "Wall time: 683 µs\n"
     ]
    },
    {
     "data": {
      "text/plain": [
       "array([0, 2, 0, 1, 1, 2, 2, 0, 2, 0, 1, 0, 1, 1, 2])"
      ]
     },
     "execution_count": 8,
     "metadata": {},
     "output_type": "execute_result"
    }
   ],
   "source": [
    "%time clf.predict(X_test)"
   ]
  },
  {
   "cell_type": "code",
   "execution_count": 9,
   "metadata": {},
   "outputs": [
    {
     "name": "stdout",
     "output_type": "stream",
     "text": [
      "CPU times: user 342 µs, sys: 0 ns, total: 342 µs\n",
      "Wall time: 227 µs\n"
     ]
    },
    {
     "data": {
      "text/plain": [
       "array([0, 2, 0, 1, 1, 2, 2, 0, 2, 0, 1, 0, 1, 1, 2])"
      ]
     },
     "execution_count": 9,
     "metadata": {},
     "output_type": "execute_result"
    }
   ],
   "source": [
    "%time my_clf.predict(X_test)"
   ]
  },
  {
   "cell_type": "code",
   "execution_count": 10,
   "metadata": {},
   "outputs": [
    {
     "name": "stdout",
     "output_type": "stream",
     "text": [
      "CPU times: user 788 µs, sys: 50 µs, total: 838 µs\n",
      "Wall time: 753 µs\n"
     ]
    },
    {
     "data": {
      "text/plain": [
       "array([[ 1.,  0.,  0.],\n",
       "       [ 0.,  0.,  1.],\n",
       "       [ 1.,  0.,  0.],\n",
       "       [ 0.,  1.,  0.],\n",
       "       [ 0.,  1.,  0.],\n",
       "       [ 0.,  0.,  1.],\n",
       "       [ 0.,  0.,  1.],\n",
       "       [ 1.,  0.,  0.],\n",
       "       [ 0.,  0.,  1.],\n",
       "       [ 1.,  0.,  0.],\n",
       "       [ 0.,  1.,  0.],\n",
       "       [ 1.,  0.,  0.],\n",
       "       [ 0.,  1.,  0.],\n",
       "       [ 0.,  1.,  0.],\n",
       "       [ 0.,  0.,  1.]])"
      ]
     },
     "execution_count": 10,
     "metadata": {},
     "output_type": "execute_result"
    }
   ],
   "source": [
    "%time clf.predict_proba(X_test)"
   ]
  },
  {
   "cell_type": "code",
   "execution_count": 11,
   "metadata": {},
   "outputs": [
    {
     "name": "stdout",
     "output_type": "stream",
     "text": [
      "CPU times: user 394 µs, sys: 0 ns, total: 394 µs\n",
      "Wall time: 306 µs\n"
     ]
    },
    {
     "data": {
      "text/plain": [
       "array([0, 2, 0, 1, 1, 2, 2, 0, 2, 0, 1, 0, 1, 1, 2])"
      ]
     },
     "execution_count": 11,
     "metadata": {},
     "output_type": "execute_result"
    }
   ],
   "source": [
    "%time my_clf.predict_proba(X_test)"
   ]
  },
  {
   "cell_type": "code",
   "execution_count": 12,
   "metadata": {},
   "outputs": [
    {
     "data": {
      "text/plain": [
       "1.0"
      ]
     },
     "execution_count": 12,
     "metadata": {},
     "output_type": "execute_result"
    }
   ],
   "source": [
    "clf.score(X_test, y_test)"
   ]
  },
  {
   "cell_type": "code",
   "execution_count": 13,
   "metadata": {},
   "outputs": [
    {
     "data": {
      "text/plain": [
       "1.0"
      ]
     },
     "execution_count": 13,
     "metadata": {},
     "output_type": "execute_result"
    }
   ],
   "source": [
    "my_clf.score(X_test, y_test)"
   ]
  },
  {
   "cell_type": "markdown",
   "metadata": {},
   "source": [
    "Задание 3"
   ]
  },
  {
   "cell_type": "code",
   "execution_count": 14,
   "metadata": {},
   "outputs": [
    {
     "name": "stdout",
     "output_type": "stream",
     "text": [
      "Best N_neighbors = 1\n"
     ]
    },
    {
     "data": {
      "image/png": "[encoded data removed]",
      "text/plain": [
       "<matplotlib.figure.Figure at 0x7fb318a736d8>"
      ]
     },
     "metadata": {},
     "output_type": "display_data"
    }
   ],
   "source": [
    "%matplotlib inline\n",
    "\n",
    "import matplotlib.pyplot as plt\n",
    "fig, ax = plt.subplots(figsize=(15, 4))\n",
    "N = 50\n",
    "Score = []\n",
    "\n",
    "for i in range(1, N):\n",
    "    my_clf = MyKNeighborsClassifier(n_neighbors = i)\n",
    "    my_clf.fit(X_train, y_train)\n",
    "    Score.append(my_clf.score(X_test, y_test))\n",
    "    \n",
    "ax.plot(range(1, N), Score)\n",
    "ax.set_ylabel('Score')\n",
    "ax.set_xlabel('N_neighbors')\n",
    "\n",
    "print('Best N_neighbors =', np.argmax(Score) + 1)"
   ]
  },
  {
   "cell_type": "markdown",
   "metadata": {},
   "source": [
    "**MNIST**"
   ]
  },
  {
   "cell_type": "code",
   "execution_count": 15,
   "metadata": {},
   "outputs": [],
   "source": [
    "mnist = fetch_mldata('MNIST original')"
   ]
  },
  {
   "cell_type": "code",
   "execution_count": 16,
   "metadata": {},
   "outputs": [],
   "source": [
    "X_train, X_test, y_train, y_test = train_test_split(mnist.data, mnist.target, test_size=0.01, stratify=mnist.target)"
   ]
  },
  {
   "cell_type": "code",
   "execution_count": 17,
   "metadata": {
    "collapsed": true
   },
   "outputs": [],
   "source": [
    "clf = KNeighborsClassifier(n_neighbors=2)\n",
    "my_clf = MyKNeighborsClassifier(n_neighbors=2)"
   ]
  },
  {
   "cell_type": "code",
   "execution_count": 18,
   "metadata": {},
   "outputs": [
    {
     "name": "stdout",
     "output_type": "stream",
     "text": [
      "CPU times: user 34.4 s, sys: 107 ms, total: 34.5 s\n",
      "Wall time: 34.5 s\n"
     ]
    },
    {
     "data": {
      "text/plain": [
       "KNeighborsClassifier(algorithm='auto', leaf_size=30, metric='minkowski',\n",
       "           metric_params=None, n_jobs=1, n_neighbors=2, p=2,\n",
       "           weights='uniform')"
      ]
     },
     "execution_count": 18,
     "metadata": {},
     "output_type": "execute_result"
    }
   ],
   "source": [
    "%time clf.fit(X_train, y_train)"
   ]
  },
  {
   "cell_type": "code",
   "execution_count": 19,
   "metadata": {},
   "outputs": [
    {
     "name": "stdout",
     "output_type": "stream",
     "text": [
      "CPU times: user 7 µs, sys: 0 ns, total: 7 µs\n",
      "Wall time: 10.5 µs\n"
     ]
    }
   ],
   "source": [
    "%time my_clf.fit(X_train, y_train)"
   ]
  },
  {
   "cell_type": "code",
   "execution_count": 20,
   "metadata": {},
   "outputs": [
    {
     "name": "stdout",
     "output_type": "stream",
     "text": [
      "CPU times: user 51.5 s, sys: 1.73 ms, total: 51.5 s\n",
      "Wall time: 51.5 s\n"
     ]
    },
    {
     "data": {
      "text/plain": [
       "array([ 9.,  5.,  8.,  6.,  0.,  7.,  4.,  3.,  5.,  2.,  3.,  1.,  3.,\n",
       "        8.,  4.,  3.,  6.,  4.,  1.,  9.,  1.,  4.,  7.,  8.,  1.,  4.,\n",
       "        4.,  0.,  7.,  0.,  1.,  7.,  6.,  6.,  7.,  0.,  5.,  6.,  0.,\n",
       "        7.,  1.,  6.,  2.,  3.,  3.,  6.,  4.,  5.,  6.,  2.,  3.,  3.,\n",
       "        7.,  7.,  4.,  6.,  5.,  9.,  4.,  6.,  9.,  4.,  2.,  0.,  6.,\n",
       "        9.,  4.,  8.,  9.,  4.,  7.,  1.,  5.,  1.,  9.,  9.,  7.,  3.,\n",
       "        4.,  1.,  3.,  1.,  3.,  0.,  6.,  4.,  6.,  6.,  6.,  1.,  7.,\n",
       "        0.,  1.,  3.,  1.,  2.,  4.,  0.,  9.,  8.,  5.,  1.,  0.,  9.,\n",
       "        8.,  5.,  2.,  1.,  1.,  5.,  3.,  3.,  6.,  1.,  0.,  3.,  3.,\n",
       "        9.,  2.,  6.,  4.,  9.,  3.,  9.,  4.,  3.,  7.,  3.,  0.,  3.,\n",
       "        4.,  0.,  2.,  8.,  9.,  9.,  7.,  2.,  7.,  0.,  0.,  3.,  2.,\n",
       "        3.,  6.,  1.,  5.,  8.,  8.,  5.,  3.,  0.,  4.,  6.,  1.,  3.,\n",
       "        1.,  7.,  7.,  0.,  0.,  6.,  6.,  4.,  1.,  5.,  7.,  1.,  9.,\n",
       "        9.,  9.,  9.,  9.,  6.,  5.,  4.,  1.,  2.,  9.,  4.,  7.,  6.,\n",
       "        4.,  8.,  5.,  9.,  1.,  8.,  2.,  3.,  5.,  6.,  1.,  6.,  7.,\n",
       "        0.,  9.,  2.,  8.,  1.,  0.,  1.,  2.,  3.,  4.,  9.,  7.,  4.,\n",
       "        8.,  3.,  3.,  9.,  7.,  6.,  1.,  4.,  8.,  0.,  8.,  3.,  5.,\n",
       "        0.,  5.,  9.,  0.,  0.,  9.,  4.,  2.,  1.,  3.,  6.,  8.,  9.,\n",
       "        2.,  8.,  0.,  2.,  3.,  8.,  4.,  8.,  1.,  7.,  7.,  0.,  8.,\n",
       "        8.,  2.,  3.,  3.,  9.,  7.,  7.,  6.,  8.,  1.,  3.,  3.,  3.,\n",
       "        8.,  2.,  1.,  5.,  6.,  9.,  6.,  5.,  4.,  4.,  2.,  4.,  5.,\n",
       "        3.,  9.,  5.,  2.,  5.,  0.,  5.,  7.,  4.,  1.,  5.,  0.,  1.,\n",
       "        8.,  2.,  4.,  1.,  5.,  2.,  3.,  2.,  4.,  2.,  9.,  0.,  1.,\n",
       "        7.,  9.,  0.,  1.,  1.,  0.,  4.,  5.,  3.,  8.,  7.,  4.,  4.,\n",
       "        7.,  2.,  3.,  7.,  1.,  4.,  3.,  7.,  0.,  7.,  4.,  3.,  7.,\n",
       "        4.,  9.,  0.,  1.,  4.,  9.,  3.,  3.,  7.,  0.,  5.,  7.,  9.,\n",
       "        9.,  5.,  5.,  3.,  6.,  4.,  9.,  6.,  9.,  4.,  8.,  0.,  5.,\n",
       "        5.,  2.,  9.,  6.,  9.,  0.,  3.,  9.,  1.,  4.,  7.,  7.,  4.,\n",
       "        5.,  2.,  8.,  6.,  1.,  3.,  2.,  4.,  8.,  6.,  7.,  2.,  2.,\n",
       "        0.,  4.,  7.,  7.,  1.,  7.,  0.,  1.,  1.,  6.,  5.,  3.,  1.,\n",
       "        9.,  1.,  4.,  4.,  6.,  2.,  4.,  1.,  7.,  6.,  9.,  3.,  0.,\n",
       "        2.,  3.,  6.,  7.,  5.,  5.,  0.,  0.,  6.,  7.,  6.,  2.,  2.,\n",
       "        3.,  6.,  9.,  7.,  6.,  6.,  2.,  3.,  9.,  9.,  8.,  6.,  4.,\n",
       "        0.,  0.,  8.,  8.,  7.,  1.,  2.,  2.,  5.,  4.,  2.,  3.,  2.,\n",
       "        8.,  0.,  4.,  2.,  5.,  2.,  2.,  0.,  8.,  2.,  1.,  3.,  0.,\n",
       "        3.,  3.,  9.,  4.,  7.,  8.,  0.,  5.,  5.,  7.,  1.,  3.,  3.,\n",
       "        2.,  2.,  8.,  3.,  8.,  6.,  4.,  1.,  0.,  9.,  6.,  1.,  2.,\n",
       "        8.,  3.,  1.,  5.,  6.,  9.,  0.,  6.,  8.,  2.,  2.,  1.,  7.,\n",
       "        5.,  8.,  2.,  3.,  3.,  2.,  9.,  6.,  0.,  1.,  3.,  8.,  7.,\n",
       "        2.,  6.,  2.,  1.,  3.,  7.,  1.,  8.,  7.,  9.,  7.,  1.,  5.,\n",
       "        0.,  1.,  1.,  4.,  1.,  2.,  8.,  0.,  5.,  6.,  9.,  1.,  5.,\n",
       "        4.,  5.,  0.,  6.,  9.,  0.,  7.,  0.,  7.,  1.,  0.,  7.,  0.,\n",
       "        0.,  7.,  5.,  5.,  8.,  3.,  0.,  5.,  9.,  9.,  5.,  7.,  6.,\n",
       "        9.,  5.,  8.,  1.,  8.,  2.,  1.,  5.,  7.,  3.,  6.,  2.,  9.,\n",
       "        2.,  4.,  2.,  5.,  0.,  5.,  3.,  5.,  0.,  2.,  7.,  4.,  6.,\n",
       "        0.,  5.,  0.,  1.,  2.,  7.,  7.,  1.,  5.,  2.,  1.,  0.,  1.,\n",
       "        1.,  8.,  3.,  8.,  3.,  1.,  8.,  8.,  6.,  1.,  1.,  1.,  6.,\n",
       "        6.,  6.,  1.,  8.,  8.,  6.,  9.,  7.,  8.,  2.,  2.,  5.,  4.,\n",
       "        0.,  3.,  2.,  9.,  9.,  8.,  1.,  3.,  9.,  6.,  0.,  8.,  7.,\n",
       "        8.,  9.,  3.,  0.,  8.,  4.,  7.,  1.,  6.,  2.,  8.,  3.,  7.,\n",
       "        8.,  4.,  2.,  3.,  7.,  8.,  4.,  0.,  4.,  9.,  7.,  2.,  9.,\n",
       "        8.,  6.,  6.,  9.,  0.,  7.,  9.,  7.,  1.,  2.,  5.,  4.,  1.,\n",
       "        6.,  0.,  4.,  0.,  1.,  5.,  3.,  0.,  9.,  3.,  7.,  5.,  3.,\n",
       "        5.,  9.,  0.,  3.,  8.,  2.,  6.,  6.,  1.,  7.,  6.])"
      ]
     },
     "execution_count": 20,
     "metadata": {},
     "output_type": "execute_result"
    }
   ],
   "source": [
    "%time clf.predict(X_test)"
   ]
  },
  {
   "cell_type": "code",
   "execution_count": 21,
   "metadata": {},
   "outputs": [
    {
     "name": "stdout",
     "output_type": "stream",
     "text": [
      "CPU times: user 30.5 s, sys: 400 ms, total: 30.9 s\n",
      "Wall time: 30.9 s\n"
     ]
    },
    {
     "data": {
      "text/plain": [
       "array([9, 5, 8, 6, 0, 7, 4, 3, 5, 2, 3, 1, 3, 8, 4, 3, 6, 4, 1, 9, 1, 4, 7,\n",
       "       8, 1, 4, 4, 0, 7, 0, 1, 7, 6, 6, 7, 0, 5, 6, 0, 7, 1, 6, 2, 3, 3, 6,\n",
       "       4, 5, 6, 2, 3, 3, 7, 7, 4, 6, 5, 9, 4, 6, 9, 4, 2, 0, 6, 9, 4, 8, 9,\n",
       "       4, 7, 1, 5, 1, 9, 9, 7, 3, 4, 1, 3, 1, 3, 0, 6, 4, 6, 6, 6, 1, 7, 0,\n",
       "       1, 3, 1, 2, 4, 0, 9, 8, 5, 1, 0, 9, 8, 5, 2, 1, 1, 5, 3, 3, 6, 1, 0,\n",
       "       3, 3, 9, 2, 6, 4, 9, 3, 9, 4, 3, 7, 3, 0, 3, 4, 0, 2, 8, 9, 9, 7, 2,\n",
       "       7, 0, 0, 3, 2, 3, 6, 1, 5, 8, 8, 5, 3, 0, 4, 6, 1, 3, 1, 7, 7, 0, 0,\n",
       "       6, 6, 4, 1, 5, 7, 1, 9, 9, 9, 9, 9, 6, 5, 4, 1, 2, 9, 4, 7, 6, 4, 8,\n",
       "       5, 9, 1, 8, 2, 3, 5, 6, 1, 6, 7, 0, 9, 2, 8, 1, 0, 1, 2, 3, 4, 9, 7,\n",
       "       4, 8, 3, 3, 9, 7, 6, 1, 4, 8, 0, 8, 3, 5, 0, 5, 9, 0, 0, 9, 4, 2, 1,\n",
       "       3, 6, 8, 9, 2, 8, 0, 2, 3, 8, 4, 8, 1, 7, 7, 0, 8, 8, 2, 3, 3, 9, 7,\n",
       "       7, 6, 8, 1, 3, 3, 3, 8, 2, 1, 5, 6, 9, 6, 5, 4, 4, 2, 4, 5, 3, 9, 5,\n",
       "       2, 5, 0, 5, 7, 4, 1, 5, 0, 1, 8, 2, 4, 1, 5, 2, 3, 2, 4, 2, 9, 0, 1,\n",
       "       7, 9, 0, 1, 1, 0, 4, 5, 3, 8, 7, 4, 4, 7, 2, 3, 7, 1, 4, 3, 7, 0, 7,\n",
       "       4, 3, 7, 4, 9, 0, 1, 4, 9, 3, 3, 7, 0, 5, 7, 9, 9, 5, 5, 3, 6, 4, 9,\n",
       "       6, 9, 4, 8, 0, 5, 5, 2, 9, 6, 9, 0, 3, 9, 1, 4, 7, 7, 4, 5, 2, 8, 6,\n",
       "       1, 3, 2, 4, 8, 6, 7, 2, 2, 0, 4, 7, 7, 1, 7, 0, 1, 1, 6, 5, 3, 1, 9,\n",
       "       1, 4, 4, 6, 2, 4, 1, 7, 6, 9, 3, 0, 2, 3, 6, 7, 5, 5, 0, 0, 6, 7, 6,\n",
       "       2, 2, 3, 6, 9, 7, 6, 6, 2, 3, 9, 9, 8, 6, 4, 0, 0, 8, 8, 7, 1, 2, 2,\n",
       "       5, 4, 2, 3, 2, 8, 0, 4, 2, 5, 2, 2, 0, 8, 2, 1, 3, 0, 3, 3, 9, 4, 7,\n",
       "       8, 0, 5, 5, 7, 1, 3, 3, 2, 2, 8, 3, 8, 6, 4, 1, 0, 9, 6, 1, 2, 8, 3,\n",
       "       1, 5, 6, 9, 0, 6, 8, 2, 2, 1, 7, 5, 8, 2, 3, 3, 2, 9, 6, 0, 1, 3, 8,\n",
       "       7, 2, 6, 2, 1, 3, 7, 1, 8, 7, 9, 7, 1, 5, 0, 1, 1, 4, 1, 2, 8, 0, 5,\n",
       "       6, 9, 1, 5, 4, 5, 0, 6, 9, 0, 7, 0, 7, 1, 0, 7, 0, 0, 7, 5, 5, 8, 3,\n",
       "       0, 5, 9, 9, 5, 7, 6, 9, 5, 8, 1, 8, 2, 1, 5, 7, 3, 6, 2, 9, 2, 4, 2,\n",
       "       5, 0, 5, 3, 5, 0, 2, 7, 4, 6, 0, 5, 0, 1, 2, 7, 7, 1, 5, 2, 1, 0, 1,\n",
       "       1, 8, 3, 8, 3, 1, 8, 8, 6, 1, 1, 1, 6, 6, 6, 1, 8, 8, 6, 9, 7, 8, 2,\n",
       "       2, 5, 4, 0, 3, 2, 9, 9, 8, 1, 3, 9, 6, 0, 8, 7, 8, 9, 3, 0, 8, 4, 7,\n",
       "       1, 6, 2, 8, 3, 7, 8, 4, 2, 3, 7, 8, 4, 0, 4, 9, 7, 2, 9, 8, 6, 6, 9,\n",
       "       0, 7, 9, 7, 1, 2, 5, 4, 1, 6, 0, 4, 0, 1, 5, 3, 0, 9, 3, 7, 5, 3, 5,\n",
       "       9, 0, 3, 8, 2, 6, 6, 1, 7, 6])"
      ]
     },
     "execution_count": 21,
     "metadata": {},
     "output_type": "execute_result"
    }
   ],
   "source": [
    "%time my_clf.predict(X_test)"
   ]
  },
  {
   "cell_type": "code",
   "execution_count": 22,
   "metadata": {},
   "outputs": [
    {
     "name": "stdout",
     "output_type": "stream",
     "text": [
      "CPU times: user 55.3 s, sys: 0 ns, total: 55.3 s\n",
      "Wall time: 55.3 s\n"
     ]
    },
    {
     "data": {
      "text/plain": [
       "array([[ 0.,  0.,  0., ...,  0.,  0.,  1.],\n",
       "       [ 0.,  0.,  0., ...,  0.,  0.,  0.],\n",
       "       [ 0.,  0.,  0., ...,  0.,  1.,  0.],\n",
       "       ..., \n",
       "       [ 0.,  1.,  0., ...,  0.,  0.,  0.],\n",
       "       [ 0.,  0.,  0., ...,  1.,  0.,  0.],\n",
       "       [ 0.,  0.,  0., ...,  0.,  0.,  0.]])"
      ]
     },
     "execution_count": 22,
     "metadata": {},
     "output_type": "execute_result"
    }
   ],
   "source": [
    "%time clf.predict_proba(X_test)"
   ]
  },
  {
   "cell_type": "code",
   "execution_count": 23,
   "metadata": {},
   "outputs": [
    {
     "name": "stdout",
     "output_type": "stream",
     "text": [
      "CPU times: user 28.5 s, sys: 356 ms, total: 28.9 s\n",
      "Wall time: 28.9 s\n"
     ]
    },
    {
     "data": {
      "text/plain": [
       "array([9, 5, 8, 6, 0, 7, 4, 3, 5, 2, 3, 1, 3, 8, 4, 3, 6, 4, 1, 9, 1, 4, 7,\n",
       "       8, 1, 4, 4, 0, 7, 0, 1, 7, 6, 6, 7, 0, 5, 6, 0, 7, 1, 6, 2, 3, 3, 6,\n",
       "       4, 5, 6, 2, 3, 3, 7, 7, 4, 6, 5, 9, 4, 6, 9, 4, 2, 0, 6, 9, 4, 8, 9,\n",
       "       4, 7, 1, 5, 1, 9, 9, 7, 3, 4, 1, 3, 1, 3, 0, 6, 4, 6, 6, 6, 1, 7, 0,\n",
       "       1, 3, 1, 2, 4, 0, 9, 8, 5, 1, 0, 9, 8, 5, 2, 1, 1, 5, 3, 3, 6, 1, 0,\n",
       "       3, 3, 9, 2, 6, 4, 9, 3, 9, 4, 3, 7, 3, 0, 3, 4, 0, 2, 8, 9, 9, 7, 2,\n",
       "       7, 0, 0, 3, 2, 3, 6, 1, 5, 8, 8, 5, 3, 0, 4, 6, 1, 3, 1, 7, 7, 0, 0,\n",
       "       6, 6, 4, 1, 5, 7, 1, 9, 9, 9, 9, 9, 6, 5, 4, 1, 2, 9, 4, 7, 6, 4, 8,\n",
       "       5, 9, 1, 8, 2, 3, 5, 6, 1, 6, 7, 0, 9, 2, 8, 1, 0, 1, 2, 3, 4, 9, 7,\n",
       "       4, 8, 3, 3, 9, 7, 6, 1, 4, 8, 0, 8, 3, 5, 0, 5, 9, 0, 0, 9, 4, 2, 1,\n",
       "       3, 6, 8, 9, 2, 8, 0, 2, 3, 8, 4, 8, 1, 7, 7, 0, 8, 8, 2, 3, 3, 9, 7,\n",
       "       7, 6, 8, 1, 3, 3, 3, 8, 2, 1, 5, 6, 9, 6, 5, 4, 4, 2, 4, 5, 3, 9, 5,\n",
       "       2, 5, 0, 5, 7, 4, 1, 5, 0, 1, 8, 2, 4, 1, 5, 2, 3, 2, 4, 2, 9, 0, 1,\n",
       "       7, 9, 0, 1, 1, 0, 4, 5, 3, 8, 7, 4, 4, 7, 2, 3, 7, 1, 4, 3, 7, 0, 7,\n",
       "       4, 3, 7, 4, 9, 0, 1, 4, 9, 3, 3, 7, 0, 5, 7, 9, 9, 5, 5, 3, 6, 4, 9,\n",
       "       6, 9, 4, 8, 0, 5, 5, 2, 9, 6, 9, 0, 3, 9, 1, 4, 7, 7, 4, 5, 2, 8, 6,\n",
       "       1, 3, 2, 4, 8, 6, 7, 2, 2, 0, 4, 7, 7, 1, 7, 0, 1, 1, 6, 5, 3, 1, 9,\n",
       "       1, 4, 4, 6, 2, 4, 1, 7, 6, 9, 3, 0, 2, 3, 6, 7, 5, 5, 0, 0, 6, 7, 6,\n",
       "       2, 2, 3, 6, 9, 7, 6, 6, 2, 3, 9, 9, 8, 6, 4, 0, 0, 8, 8, 7, 1, 2, 2,\n",
       "       5, 4, 2, 3, 2, 8, 0, 4, 2, 5, 2, 2, 0, 8, 2, 1, 3, 0, 3, 3, 9, 4, 7,\n",
       "       8, 0, 5, 5, 7, 1, 3, 3, 2, 2, 8, 3, 8, 6, 4, 1, 0, 9, 6, 1, 2, 8, 3,\n",
       "       1, 5, 6, 9, 0, 6, 8, 2, 2, 1, 7, 5, 8, 2, 3, 3, 2, 9, 6, 0, 1, 3, 8,\n",
       "       7, 2, 6, 2, 1, 3, 7, 1, 8, 7, 9, 7, 1, 5, 0, 1, 1, 4, 1, 2, 8, 0, 5,\n",
       "       6, 9, 1, 5, 4, 5, 0, 6, 9, 0, 7, 0, 7, 1, 0, 7, 0, 0, 7, 5, 5, 8, 3,\n",
       "       0, 5, 9, 9, 5, 7, 6, 9, 5, 8, 1, 8, 2, 1, 5, 7, 3, 6, 2, 9, 2, 4, 2,\n",
       "       5, 0, 5, 3, 5, 0, 2, 7, 4, 6, 0, 5, 0, 1, 2, 7, 7, 1, 5, 2, 1, 0, 1,\n",
       "       1, 8, 3, 8, 3, 1, 8, 8, 6, 1, 1, 1, 6, 6, 6, 1, 8, 8, 6, 9, 7, 8, 2,\n",
       "       2, 5, 4, 0, 3, 2, 9, 9, 8, 1, 3, 9, 6, 0, 8, 7, 8, 9, 3, 0, 8, 4, 7,\n",
       "       1, 6, 2, 8, 3, 7, 8, 4, 2, 3, 7, 8, 4, 0, 4, 9, 7, 2, 9, 8, 6, 6, 9,\n",
       "       0, 7, 9, 7, 1, 2, 5, 4, 1, 6, 0, 4, 0, 1, 5, 3, 0, 9, 3, 7, 5, 3, 5,\n",
       "       9, 0, 3, 8, 2, 6, 6, 1, 7, 6])"
      ]
     },
     "execution_count": 23,
     "metadata": {},
     "output_type": "execute_result"
    }
   ],
   "source": [
    "%time my_clf.predict_proba(X_test)"
   ]
  },
  {
   "cell_type": "code",
   "execution_count": 24,
   "metadata": {},
   "outputs": [
    {
     "data": {
      "text/plain": [
       "0.96714285714285719"
      ]
     },
     "execution_count": 24,
     "metadata": {},
     "output_type": "execute_result"
    }
   ],
   "source": [
    "clf.score(X_test, y_test)"
   ]
  },
  {
   "cell_type": "code",
   "execution_count": 25,
   "metadata": {},
   "outputs": [
    {
     "data": {
      "text/plain": [
       "0.96714285714285719"
      ]
     },
     "execution_count": 25,
     "metadata": {},
     "output_type": "execute_result"
    }
   ],
   "source": [
    "my_clf.score(X_test, y_test)"
   ]
  },
  {
   "cell_type": "markdown",
   "metadata": {},
   "source": [
    "Задание 4"
   ]
  },
  {
   "cell_type": "code",
   "execution_count": 26,
   "metadata": {
    "collapsed": true
   },
   "outputs": [],
   "source": [
    "clf = KNeighborsClassifier(n_neighbors=2, algorithm='kd_tree')\n",
    "my_clf = MyKNeighborsClassifier(n_neighbors=2, algorithm='kd_tree')"
   ]
  },
  {
   "cell_type": "code",
   "execution_count": 27,
   "metadata": {},
   "outputs": [],
   "source": [
    "X_train, X_test, y_train, y_test = train_test_split(mnist.data, mnist.target, test_size=0.01, stratify=mnist.target)"
   ]
  },
  {
   "cell_type": "code",
   "execution_count": 28,
   "metadata": {},
   "outputs": [
    {
     "name": "stdout",
     "output_type": "stream",
     "text": [
      "CPU times: user 36.1 s, sys: 144 ms, total: 36.3 s\n",
      "Wall time: 36.2 s\n"
     ]
    },
    {
     "data": {
      "text/plain": [
       "KNeighborsClassifier(algorithm='kd_tree', leaf_size=30, metric='minkowski',\n",
       "           metric_params=None, n_jobs=1, n_neighbors=2, p=2,\n",
       "           weights='uniform')"
      ]
     },
     "execution_count": 28,
     "metadata": {},
     "output_type": "execute_result"
    }
   ],
   "source": [
    "%time clf.fit(X_train, y_train)"
   ]
  },
  {
   "cell_type": "code",
   "execution_count": 29,
   "metadata": {},
   "outputs": [
    {
     "name": "stdout",
     "output_type": "stream",
     "text": [
      "CPU times: user 32.9 s, sys: 128 ms, total: 33 s\n",
      "Wall time: 32.9 s\n"
     ]
    }
   ],
   "source": [
    "%time my_clf.fit(X_train, y_train)"
   ]
  },
  {
   "cell_type": "code",
   "execution_count": 30,
   "metadata": {},
   "outputs": [
    {
     "name": "stdout",
     "output_type": "stream",
     "text": [
      "CPU times: user 54 s, sys: 4.04 ms, total: 54 s\n",
      "Wall time: 54 s\n"
     ]
    },
    {
     "data": {
      "text/plain": [
       "array([ 8.,  1.,  1.,  4.,  2.,  5.,  1.,  5.,  7.,  9.,  8.,  6.,  0.,\n",
       "        5.,  7.,  2.,  1.,  1.,  9.,  6.,  1.,  4.,  3.,  6.,  2.,  9.,\n",
       "        3.,  7.,  7.,  4.,  4.,  6.,  6.,  5.,  9.,  6.,  2.,  1.,  4.,\n",
       "        3.,  9.,  6.,  0.,  7.,  3.,  6.,  2.,  4.,  7.,  9.,  5.,  9.,\n",
       "        3.,  5.,  1.,  1.,  6.,  1.,  7.,  6.,  1.,  3.,  1.,  7.,  3.,\n",
       "        1.,  3.,  6.,  3.,  6.,  8.,  9.,  5.,  7.,  5.,  9.,  0.,  0.,\n",
       "        6.,  6.,  7.,  1.,  1.,  6.,  6.,  2.,  8.,  6.,  5.,  5.,  6.,\n",
       "        0.,  2.,  1.,  6.,  6.,  5.,  8.,  0.,  8.,  5.,  8.,  6.,  0.,\n",
       "        3.,  7.,  7.,  3.,  9.,  1.,  6.,  5.,  3.,  9.,  1.,  1.,  4.,\n",
       "        4.,  5.,  9.,  2.,  6.,  2.,  8.,  7.,  8.,  0.,  2.,  3.,  6.,\n",
       "        7.,  4.,  1.,  8.,  0.,  4.,  5.,  1.,  8.,  4.,  2.,  5.,  8.,\n",
       "        4.,  1.,  7.,  2.,  4.,  2.,  3.,  5.,  9.,  3.,  3.,  1.,  7.,\n",
       "        0.,  1.,  0.,  5.,  0.,  4.,  7.,  0.,  4.,  9.,  0.,  0.,  8.,\n",
       "        7.,  0.,  8.,  2.,  8.,  8.,  7.,  0.,  5.,  1.,  6.,  7.,  0.,\n",
       "        5.,  1.,  7.,  5.,  3.,  7.,  9.,  0.,  2.,  3.,  2.,  9.,  3.,\n",
       "        6.,  3.,  7.,  5.,  0.,  4.,  4.,  8.,  7.,  2.,  9.,  7.,  0.,\n",
       "        5.,  4.,  1.,  7.,  1.,  5.,  3.,  3.,  6.,  4.,  0.,  2.,  4.,\n",
       "        3.,  4.,  2.,  3.,  4.,  2.,  5.,  4.,  9.,  1.,  0.,  3.,  0.,\n",
       "        8.,  0.,  3.,  7.,  3.,  7.,  0.,  8.,  3.,  9.,  6.,  1.,  9.,\n",
       "        9.,  6.,  4.,  3.,  0.,  6.,  4.,  4.,  0.,  3.,  0.,  8.,  9.,\n",
       "        1.,  4.,  6.,  8.,  5.,  4.,  1.,  4.,  1.,  5.,  1.,  8.,  8.,\n",
       "        3.,  9.,  2.,  2.,  7.,  5.,  1.,  5.,  9.,  7.,  2.,  8.,  1.,\n",
       "        1.,  4.,  9.,  4.,  8.,  4.,  4.,  5.,  4.,  8.,  4.,  7.,  4.,\n",
       "        3.,  2.,  9.,  0.,  6.,  8.,  1.,  9.,  3.,  6.,  3.,  3.,  8.,\n",
       "        9.,  8.,  3.,  1.,  9.,  2.,  5.,  0.,  6.,  4.,  0.,  2.,  3.,\n",
       "        4.,  3.,  5.,  8.,  1.,  9.,  7.,  7.,  7.,  7.,  0.,  1.,  7.,\n",
       "        4.,  5.,  5.,  0.,  6.,  7.,  4.,  7.,  9.,  2.,  2.,  5.,  6.,\n",
       "        5.,  2.,  0.,  4.,  4.,  3.,  6.,  8.,  1.,  1.,  0.,  3.,  6.,\n",
       "        9.,  1.,  4.,  2.,  8.,  7.,  1.,  8.,  5.,  9.,  8.,  0.,  1.,\n",
       "        0.,  5.,  5.,  1.,  2.,  6.,  0.,  0.,  9.,  6.,  2.,  6.,  7.,\n",
       "        9.,  4.,  4.,  1.,  6.,  0.,  9.,  7.,  3.,  0.,  1.,  2.,  7.,\n",
       "        0.,  3.,  7.,  9.,  1.,  1.,  0.,  8.,  9.,  4.,  1.,  9.,  6.,\n",
       "        6.,  0.,  1.,  4.,  2.,  1.,  6.,  8.,  7.,  7.,  8.,  6.,  3.,\n",
       "        2.,  2.,  3.,  1.,  1.,  1.,  1.,  9.,  3.,  4.,  5.,  4.,  2.,\n",
       "        4.,  2.,  7.,  8.,  0.,  4.,  7.,  8.,  1.,  5.,  5.,  4.,  5.,\n",
       "        7.,  2.,  8.,  8.,  8.,  9.,  7.,  5.,  5.,  7.,  1.,  7.,  2.,\n",
       "        7.,  1.,  2.,  9.,  7.,  2.,  3.,  8.,  9.,  6.,  3.,  6.,  0.,\n",
       "        4.,  6.,  1.,  6.,  3.,  2.,  0.,  3.,  3.,  0.,  2.,  0.,  4.,\n",
       "        2.,  0.,  8.,  1.,  5.,  0.,  8.,  9.,  6.,  8.,  4.,  3.,  7.,\n",
       "        7.,  6.,  1.,  4.,  4.,  4.,  9.,  3.,  3.,  9.,  2.,  1.,  2.,\n",
       "        0.,  2.,  7.,  5.,  3.,  8.,  7.,  4.,  2.,  2.,  3.,  1.,  4.,\n",
       "        7.,  3.,  6.,  3.,  9.,  8.,  0.,  3.,  9.,  7.,  2.,  5.,  3.,\n",
       "        9.,  0.,  3.,  2.,  7.,  0.,  4.,  0.,  3.,  3.,  4.,  9.,  7.,\n",
       "        6.,  7.,  2.,  9.,  6.,  5.,  1.,  8.,  8.,  0.,  2.,  5.,  3.,\n",
       "        2.,  5.,  9.,  4.,  2.,  8.,  3.,  4.,  2.,  5.,  1.,  1.,  7.,\n",
       "        1.,  3.,  8.,  8.,  3.,  3.,  2.,  9.,  6.,  6.,  2.,  6.,  1.,\n",
       "        7.,  5.,  1.,  6.,  8.,  6.,  3.,  8.,  2.,  9.,  3.,  6.,  0.,\n",
       "        4.,  7.,  2.,  9.,  5.,  0.,  9.,  0.,  7.,  7.,  4.,  1.,  4.,\n",
       "        9.,  5.,  3.,  6.,  0.,  5.,  1.,  3.,  8.,  2.,  0.,  5.,  9.,\n",
       "        4.,  4.,  6.,  9.,  7.,  0.,  2.,  5.,  9.,  2.,  6.,  6.,  8.,\n",
       "        2.,  7.,  6.,  2.,  4.,  2.,  2.,  3.,  9.,  1.,  9.,  4.,  0.,\n",
       "        8.,  5.,  7.,  4.,  4.,  3.,  0.,  7.,  0.,  1.,  8.,  2.,  1.,\n",
       "        0.,  1.,  7.,  9.,  9.,  8.,  1.,  5.,  1.,  3.,  2.,  7.,  0.,\n",
       "        5.,  3.,  6.,  7.,  8.,  9.,  3.,  7.,  2.,  7.,  6.])"
      ]
     },
     "execution_count": 30,
     "metadata": {},
     "output_type": "execute_result"
    }
   ],
   "source": [
    "%time clf.predict(X_test)"
   ]
  },
  {
   "cell_type": "code",
   "execution_count": 31,
   "metadata": {},
   "outputs": [
    {
     "name": "stdout",
     "output_type": "stream",
     "text": [
      "CPU times: user 45.7 s, sys: 35.9 ms, total: 45.7 s\n",
      "Wall time: 45.8 s\n"
     ]
    },
    {
     "data": {
      "text/plain": [
       "array([8, 1, 1, 4, 2, 5, 1, 5, 7, 9, 8, 6, 0, 5, 7, 2, 1, 1, 9, 6, 1, 4, 3,\n",
       "       6, 2, 9, 3, 7, 7, 4, 4, 6, 6, 5, 9, 6, 2, 1, 4, 3, 9, 6, 0, 7, 3, 6,\n",
       "       2, 4, 7, 9, 5, 9, 3, 5, 1, 1, 6, 1, 7, 6, 1, 3, 1, 7, 3, 1, 3, 6, 3,\n",
       "       6, 8, 9, 5, 7, 5, 9, 0, 0, 6, 6, 7, 1, 1, 6, 6, 2, 8, 6, 5, 5, 6, 0,\n",
       "       2, 1, 6, 6, 5, 8, 0, 8, 5, 8, 6, 0, 3, 7, 7, 3, 9, 1, 6, 5, 3, 9, 1,\n",
       "       1, 4, 4, 5, 9, 2, 6, 2, 8, 7, 8, 0, 2, 3, 6, 7, 4, 1, 8, 0, 4, 5, 1,\n",
       "       8, 4, 2, 5, 8, 4, 1, 7, 2, 4, 2, 3, 5, 9, 3, 3, 1, 7, 0, 1, 0, 5, 0,\n",
       "       4, 7, 0, 4, 9, 0, 0, 8, 7, 0, 8, 2, 8, 8, 7, 0, 5, 1, 6, 7, 0, 5, 1,\n",
       "       7, 5, 3, 7, 9, 0, 2, 3, 2, 9, 3, 6, 3, 7, 5, 0, 4, 4, 8, 7, 2, 9, 7,\n",
       "       0, 5, 4, 1, 7, 1, 5, 3, 3, 6, 4, 0, 2, 4, 3, 4, 2, 3, 4, 2, 5, 4, 9,\n",
       "       1, 0, 3, 0, 8, 0, 3, 7, 3, 7, 0, 8, 3, 9, 6, 1, 9, 9, 6, 4, 3, 0, 6,\n",
       "       4, 4, 0, 3, 0, 8, 9, 1, 4, 6, 8, 5, 4, 1, 4, 1, 5, 1, 8, 8, 3, 9, 2,\n",
       "       2, 7, 5, 1, 5, 9, 7, 2, 8, 1, 1, 4, 9, 4, 8, 4, 4, 5, 4, 8, 4, 7, 4,\n",
       "       3, 2, 9, 0, 6, 8, 1, 9, 3, 6, 3, 3, 8, 9, 8, 3, 1, 9, 2, 5, 0, 6, 4,\n",
       "       0, 2, 3, 4, 3, 5, 8, 1, 9, 7, 7, 7, 7, 0, 1, 7, 4, 5, 5, 0, 6, 7, 4,\n",
       "       7, 9, 2, 2, 5, 6, 5, 2, 0, 4, 4, 3, 6, 8, 1, 1, 0, 3, 6, 9, 1, 4, 2,\n",
       "       8, 7, 1, 8, 5, 9, 8, 0, 1, 0, 5, 5, 1, 2, 6, 0, 0, 9, 6, 2, 6, 7, 9,\n",
       "       4, 4, 1, 6, 0, 9, 7, 3, 0, 1, 2, 7, 0, 3, 7, 9, 1, 1, 0, 8, 9, 4, 1,\n",
       "       9, 6, 6, 0, 1, 4, 2, 1, 6, 8, 7, 7, 8, 6, 3, 2, 2, 3, 1, 1, 1, 1, 9,\n",
       "       3, 4, 5, 4, 2, 4, 2, 7, 8, 0, 4, 7, 8, 1, 5, 5, 4, 5, 7, 2, 8, 8, 8,\n",
       "       9, 7, 5, 5, 7, 1, 7, 2, 7, 1, 2, 9, 7, 2, 3, 8, 9, 6, 3, 6, 0, 4, 6,\n",
       "       1, 6, 3, 2, 0, 3, 3, 0, 2, 0, 4, 2, 0, 8, 1, 5, 0, 8, 9, 6, 8, 4, 3,\n",
       "       7, 7, 6, 1, 4, 4, 4, 9, 3, 3, 9, 2, 1, 2, 0, 2, 7, 5, 3, 8, 7, 4, 2,\n",
       "       2, 3, 1, 4, 7, 3, 6, 3, 9, 8, 0, 3, 9, 7, 2, 5, 3, 9, 0, 3, 2, 7, 0,\n",
       "       4, 0, 3, 3, 4, 9, 7, 6, 7, 2, 9, 6, 5, 1, 8, 8, 0, 2, 5, 3, 2, 5, 9,\n",
       "       4, 2, 8, 3, 4, 2, 5, 1, 1, 7, 1, 3, 8, 8, 3, 3, 2, 9, 6, 6, 2, 6, 1,\n",
       "       7, 5, 1, 6, 8, 6, 3, 8, 2, 9, 3, 6, 0, 4, 7, 2, 9, 5, 0, 9, 0, 7, 7,\n",
       "       4, 1, 4, 9, 5, 3, 6, 0, 5, 1, 3, 8, 2, 0, 5, 9, 4, 4, 6, 9, 7, 0, 2,\n",
       "       5, 9, 2, 6, 6, 8, 2, 7, 6, 2, 4, 2, 2, 3, 9, 1, 9, 4, 0, 8, 5, 7, 4,\n",
       "       4, 3, 0, 7, 0, 1, 8, 2, 1, 0, 1, 7, 9, 9, 8, 1, 5, 1, 3, 2, 7, 0, 5,\n",
       "       3, 6, 7, 8, 9, 3, 7, 2, 7, 6])"
      ]
     },
     "execution_count": 31,
     "metadata": {},
     "output_type": "execute_result"
    }
   ],
   "source": [
    "%time my_clf.predict(X_test)"
   ]
  },
  {
   "cell_type": "code",
   "execution_count": 32,
   "metadata": {},
   "outputs": [
    {
     "name": "stdout",
     "output_type": "stream",
     "text": [
      "CPU times: user 54.5 s, sys: 0 ns, total: 54.5 s\n",
      "Wall time: 54.5 s\n"
     ]
    },
    {
     "data": {
      "text/plain": [
       "array([[ 0.,  0.,  0., ...,  0.,  1.,  0.],\n",
       "       [ 0.,  1.,  0., ...,  0.,  0.,  0.],\n",
       "       [ 0.,  1.,  0., ...,  0.,  0.,  0.],\n",
       "       ..., \n",
       "       [ 0.,  0.,  1., ...,  0.,  0.,  0.],\n",
       "       [ 0.,  0.,  0., ...,  1.,  0.,  0.],\n",
       "       [ 0.,  0.,  0., ...,  0.,  0.,  0.]])"
      ]
     },
     "execution_count": 32,
     "metadata": {},
     "output_type": "execute_result"
    }
   ],
   "source": [
    "%time clf.predict_proba(X_test)"
   ]
  },
  {
   "cell_type": "code",
   "execution_count": 33,
   "metadata": {},
   "outputs": [
    {
     "name": "stdout",
     "output_type": "stream",
     "text": [
      "CPU times: user 41.7 s, sys: 0 ns, total: 41.7 s\n",
      "Wall time: 41.7 s\n"
     ]
    },
    {
     "data": {
      "text/plain": [
       "array([8, 1, 1, 4, 2, 5, 1, 5, 7, 9, 8, 6, 0, 5, 7, 2, 1, 1, 9, 6, 1, 4, 3,\n",
       "       6, 2, 9, 3, 7, 7, 4, 4, 6, 6, 5, 9, 6, 2, 1, 4, 3, 9, 6, 0, 7, 3, 6,\n",
       "       2, 4, 7, 9, 5, 9, 3, 5, 1, 1, 6, 1, 7, 6, 1, 3, 1, 7, 3, 1, 3, 6, 3,\n",
       "       6, 8, 9, 5, 7, 5, 9, 0, 0, 6, 6, 7, 1, 1, 6, 6, 2, 8, 6, 5, 5, 6, 0,\n",
       "       2, 1, 6, 6, 5, 8, 0, 8, 5, 8, 6, 0, 3, 7, 7, 3, 9, 1, 6, 5, 3, 9, 1,\n",
       "       1, 4, 4, 5, 9, 2, 6, 2, 8, 7, 8, 0, 2, 3, 6, 7, 4, 1, 8, 0, 4, 5, 1,\n",
       "       8, 4, 2, 5, 8, 4, 1, 7, 2, 4, 2, 3, 5, 9, 3, 3, 1, 7, 0, 1, 0, 5, 0,\n",
       "       4, 7, 0, 4, 9, 0, 0, 8, 7, 0, 8, 2, 8, 8, 7, 0, 5, 1, 6, 7, 0, 5, 1,\n",
       "       7, 5, 3, 7, 9, 0, 2, 3, 2, 9, 3, 6, 3, 7, 5, 0, 4, 4, 8, 7, 2, 9, 7,\n",
       "       0, 5, 4, 1, 7, 1, 5, 3, 3, 6, 4, 0, 2, 4, 3, 4, 2, 3, 4, 2, 5, 4, 9,\n",
       "       1, 0, 3, 0, 8, 0, 3, 7, 3, 7, 0, 8, 3, 9, 6, 1, 9, 9, 6, 4, 3, 0, 6,\n",
       "       4, 4, 0, 3, 0, 8, 9, 1, 4, 6, 8, 5, 4, 1, 4, 1, 5, 1, 8, 8, 3, 9, 2,\n",
       "       2, 7, 5, 1, 5, 9, 7, 2, 8, 1, 1, 4, 9, 4, 8, 4, 4, 5, 4, 8, 4, 7, 4,\n",
       "       3, 2, 9, 0, 6, 8, 1, 9, 3, 6, 3, 3, 8, 9, 8, 3, 1, 9, 2, 5, 0, 6, 4,\n",
       "       0, 2, 3, 4, 3, 5, 8, 1, 9, 7, 7, 7, 7, 0, 1, 7, 4, 5, 5, 0, 6, 7, 4,\n",
       "       7, 9, 2, 2, 5, 6, 5, 2, 0, 4, 4, 3, 6, 8, 1, 1, 0, 3, 6, 9, 1, 4, 2,\n",
       "       8, 7, 1, 8, 5, 9, 8, 0, 1, 0, 5, 5, 1, 2, 6, 0, 0, 9, 6, 2, 6, 7, 9,\n",
       "       4, 4, 1, 6, 0, 9, 7, 3, 0, 1, 2, 7, 0, 3, 7, 9, 1, 1, 0, 8, 9, 4, 1,\n",
       "       9, 6, 6, 0, 1, 4, 2, 1, 6, 8, 7, 7, 8, 6, 3, 2, 2, 3, 1, 1, 1, 1, 9,\n",
       "       3, 4, 5, 4, 2, 4, 2, 7, 8, 0, 4, 7, 8, 1, 5, 5, 4, 5, 7, 2, 8, 8, 8,\n",
       "       9, 7, 5, 5, 7, 1, 7, 2, 7, 1, 2, 9, 7, 2, 3, 8, 9, 6, 3, 6, 0, 4, 6,\n",
       "       1, 6, 3, 2, 0, 3, 3, 0, 2, 0, 4, 2, 0, 8, 1, 5, 0, 8, 9, 6, 8, 4, 3,\n",
       "       7, 7, 6, 1, 4, 4, 4, 9, 3, 3, 9, 2, 1, 2, 0, 2, 7, 5, 3, 8, 7, 4, 2,\n",
       "       2, 3, 1, 4, 7, 3, 6, 3, 9, 8, 0, 3, 9, 7, 2, 5, 3, 9, 0, 3, 2, 7, 0,\n",
       "       4, 0, 3, 3, 4, 9, 7, 6, 7, 2, 9, 6, 5, 1, 8, 8, 0, 2, 5, 3, 2, 5, 9,\n",
       "       4, 2, 8, 3, 4, 2, 5, 1, 1, 7, 1, 3, 8, 8, 3, 3, 2, 9, 6, 6, 2, 6, 1,\n",
       "       7, 5, 1, 6, 8, 6, 3, 8, 2, 9, 3, 6, 0, 4, 7, 2, 9, 5, 0, 9, 0, 7, 7,\n",
       "       4, 1, 4, 9, 5, 3, 6, 0, 5, 1, 3, 8, 2, 0, 5, 9, 4, 4, 6, 9, 7, 0, 2,\n",
       "       5, 9, 2, 6, 6, 8, 2, 7, 6, 2, 4, 2, 2, 3, 9, 1, 9, 4, 0, 8, 5, 7, 4,\n",
       "       4, 3, 0, 7, 0, 1, 8, 2, 1, 0, 1, 7, 9, 9, 8, 1, 5, 1, 3, 2, 7, 0, 5,\n",
       "       3, 6, 7, 8, 9, 3, 7, 2, 7, 6])"
      ]
     },
     "execution_count": 33,
     "metadata": {},
     "output_type": "execute_result"
    }
   ],
   "source": [
    "%time my_clf.predict_proba(X_test)"
   ]
  },
  {
   "cell_type": "code",
   "execution_count": 34,
   "metadata": {},
   "outputs": [
    {
     "data": {
      "text/plain": [
       "0.9642857142857143"
      ]
     },
     "execution_count": 34,
     "metadata": {},
     "output_type": "execute_result"
    }
   ],
   "source": [
    "clf.score(X_test, y_test)"
   ]
  },
  {
   "cell_type": "code",
   "execution_count": 35,
   "metadata": {},
   "outputs": [
    {
     "data": {
      "text/plain": [
       "0.9642857142857143"
      ]
     },
     "execution_count": 35,
     "metadata": {},
     "output_type": "execute_result"
    }
   ],
   "source": [
    "my_clf.score(X_test, y_test)"
   ]
  },
  {
   "cell_type": "markdown",
   "metadata": {},
   "source": [
    "Задание 5"
   ]
  },
  {
   "cell_type": "code",
   "execution_count": 37,
   "metadata": {
    "collapsed": true
   },
   "outputs": [],
   "source": [
    "# seaborn визуализация сложных данных (более высокого уровня чем matplotlib)\n",
    "# matplotlib визуализация данных\n",
    "# train_test_split деление данных на train и test\n",
    "# Pipelin%load_ext e (from sklearn.pipeline import Pipeline) считать время в ячейке\n",
    "# StandardScaler (from sklearn.preprocessing import StandardScaler) приведение к стандартному распределению\n",
    "# ClassifierMixin вычисляет Score\n",
    "# NeighborsBase класс для knn (абстрактный класс для \"соседей\")\n",
    "# KNeighborsMixin класс для knn (находит соседей)\n",
    "# SupervisedIntegerMixin клас для knn (содержит fit)"
   ]
  }
 ],
 "metadata": {
  "kernelspec": {
   "display_name": "Python 3",
   "language": "python",
   "name": "python3"
  },
  "language_info": {
   "codemirror_mode": {
    "name": "ipython",
    "version": 3
   },
   "file_extension": ".py",
   "mimetype": "text/x-python",
   "name": "python",
   "nbconvert_exporter": "python",
   "pygments_lexer": "ipython3",
   "version": "3.6.2"
  }
 },
 "nbformat": 4,
 "nbformat_minor": 2
}
